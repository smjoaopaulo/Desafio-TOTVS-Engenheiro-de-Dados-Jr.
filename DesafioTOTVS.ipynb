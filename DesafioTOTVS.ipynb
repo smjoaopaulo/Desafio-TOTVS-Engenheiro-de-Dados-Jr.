{
 "cells": [
  {
   "cell_type": "code",
   "execution_count": 13,
   "metadata": {},
   "outputs": [],
   "source": [
    "import requests"
   ]
  },
  {
   "cell_type": "code",
   "execution_count": 14,
   "metadata": {},
   "outputs": [
    {
     "name": "stderr",
     "output_type": "stream",
     "text": [
      "c:\\Users\\joao.pmachado\\AppData\\Local\\Programs\\Python\\Python312\\Lib\\site-packages\\urllib3\\connectionpool.py:1099: InsecureRequestWarning: Unverified HTTPS request is being made to host 'www.mmobomb.com'. Adding certificate verification is strongly advised. See: https://urllib3.readthedocs.io/en/latest/advanced-usage.html#tls-warnings\n",
      "  warnings.warn(\n"
     ]
    }
   ],
   "source": [
    "r = requests.get('https://www.mmobomb.com/api1/games', verify=False)"
   ]
  },
  {
   "cell_type": "code",
   "execution_count": 15,
   "metadata": {},
   "outputs": [
    {
     "data": {
      "text/plain": [
       "200"
      ]
     },
     "execution_count": 15,
     "metadata": {},
     "output_type": "execute_result"
    }
   ],
   "source": [
    "r.status_code"
   ]
  },
  {
   "cell_type": "code",
   "execution_count": 16,
   "metadata": {},
   "outputs": [
    {
     "data": {
      "text/plain": [
       "405"
      ]
     },
     "execution_count": 16,
     "metadata": {},
     "output_type": "execute_result"
    }
   ],
   "source": [
    "len(r.json())"
   ]
  },
  {
   "cell_type": "code",
   "execution_count": 17,
   "metadata": {},
   "outputs": [
    {
     "data": {
      "text/plain": [
       "'https://www.mmobomb.com/api1/games'"
      ]
     },
     "execution_count": 17,
     "metadata": {},
     "output_type": "execute_result"
    }
   ],
   "source": [
    "url = r.url\n",
    "url"
   ]
  },
  {
   "cell_type": "code",
   "execution_count": 18,
   "metadata": {},
   "outputs": [],
   "source": [
    "headers = {'X-GitHub-Api-Version': '2022-11-28'}"
   ]
  },
  {
   "cell_type": "code",
   "execution_count": 19,
   "metadata": {},
   "outputs": [
    {
     "name": "stderr",
     "output_type": "stream",
     "text": [
      "c:\\Users\\joao.pmachado\\AppData\\Local\\Programs\\Python\\Python312\\Lib\\site-packages\\urllib3\\connectionpool.py:1099: InsecureRequestWarning: Unverified HTTPS request is being made to host 'www.mmobomb.com'. Adding certificate verification is strongly advised. See: https://urllib3.readthedocs.io/en/latest/advanced-usage.html#tls-warnings\n",
      "  warnings.warn(\n"
     ]
    },
    {
     "data": {
      "text/plain": [
       "200"
      ]
     },
     "execution_count": 19,
     "metadata": {},
     "output_type": "execute_result"
    }
   ],
   "source": [
    "response = requests.get(url, headers=headers, verify=False)\n",
    "response.status_code"
   ]
  },
  {
   "cell_type": "code",
   "execution_count": 20,
   "metadata": {},
   "outputs": [
    {
     "data": {
      "text/plain": [
       "405"
      ]
     },
     "execution_count": 20,
     "metadata": {},
     "output_type": "execute_result"
    }
   ],
   "source": [
    "len(response.json())"
   ]
  },
  {
   "cell_type": "code",
   "execution_count": 21,
   "metadata": {},
   "outputs": [],
   "source": [
    "import pandas as pd"
   ]
  },
  {
   "cell_type": "code",
   "execution_count": 22,
   "metadata": {},
   "outputs": [
    {
     "data": {
      "text/html": [
       "<div>\n",
       "<style scoped>\n",
       "    .dataframe tbody tr th:only-of-type {\n",
       "        vertical-align: middle;\n",
       "    }\n",
       "\n",
       "    .dataframe tbody tr th {\n",
       "        vertical-align: top;\n",
       "    }\n",
       "\n",
       "    .dataframe thead th {\n",
       "        text-align: right;\n",
       "    }\n",
       "</style>\n",
       "<table border=\"1\" class=\"dataframe\">\n",
       "  <thead>\n",
       "    <tr style=\"text-align: right;\">\n",
       "      <th></th>\n",
       "      <th>id</th>\n",
       "      <th>title</th>\n",
       "      <th>thumbnail</th>\n",
       "      <th>short_description</th>\n",
       "      <th>game_url</th>\n",
       "      <th>genre</th>\n",
       "      <th>platform</th>\n",
       "      <th>publisher</th>\n",
       "      <th>developer</th>\n",
       "      <th>release_date</th>\n",
       "      <th>profile_url</th>\n",
       "    </tr>\n",
       "  </thead>\n",
       "  <tbody>\n",
       "    <tr>\n",
       "      <th>0</th>\n",
       "      <td>1136</td>\n",
       "      <td>Overwatch 2</td>\n",
       "      <td>https://www.mmobomb.com/g/1136/thumbnail.jpg</td>\n",
       "      <td>Big changes come to the Overwatch formula in t...</td>\n",
       "      <td>https://www.mmobomb.com/open/overwatch-2</td>\n",
       "      <td>Shooter</td>\n",
       "      <td>PC (Windows)</td>\n",
       "      <td>Activision Blizzard King</td>\n",
       "      <td>Blizzard Entertainment</td>\n",
       "      <td>2022-10-04</td>\n",
       "      <td>https://www.mmobomb.com/overwatch-2</td>\n",
       "    </tr>\n",
       "    <tr>\n",
       "      <th>1</th>\n",
       "      <td>523</td>\n",
       "      <td>Lost Ark</td>\n",
       "      <td>https://www.mmobomb.com/g/523/thumbnail.jpg</td>\n",
       "      <td>Journey throughout the realm of Arkesia and do...</td>\n",
       "      <td>https://www.mmobomb.com/open/lost-ark</td>\n",
       "      <td>ARPG</td>\n",
       "      <td>PC (Windows)</td>\n",
       "      <td>Amazon Games</td>\n",
       "      <td>Smilegate</td>\n",
       "      <td>2022-02-11</td>\n",
       "      <td>https://www.mmobomb.com/lost-ark</td>\n",
       "    </tr>\n",
       "    <tr>\n",
       "      <th>2</th>\n",
       "      <td>1113</td>\n",
       "      <td>PUBG: BATTLEGROUNDS</td>\n",
       "      <td>https://www.mmobomb.com/g/1113/thumbnail.jpg</td>\n",
       "      <td>Battle the odds in a 100v1 death match in PUBG...</td>\n",
       "      <td>https://www.mmobomb.com/open/pubg</td>\n",
       "      <td>Shooter</td>\n",
       "      <td>PC (Windows)</td>\n",
       "      <td>KRAFTON, Inc.</td>\n",
       "      <td>KRAFTON, Inc.</td>\n",
       "      <td>2022-01-12</td>\n",
       "      <td>https://www.mmobomb.com/pubg</td>\n",
       "    </tr>\n",
       "    <tr>\n",
       "      <th>3</th>\n",
       "      <td>508</td>\n",
       "      <td>Enlisted</td>\n",
       "      <td>https://www.mmobomb.com/g/508/thumbnail.jpg</td>\n",
       "      <td>Step into the most famous battles of World War...</td>\n",
       "      <td>https://www.mmobomb.com/open/enlisted</td>\n",
       "      <td>Shooter</td>\n",
       "      <td>PC (Windows)</td>\n",
       "      <td>Gaijin Entertainment</td>\n",
       "      <td>Darkflow Software</td>\n",
       "      <td>2021-04-08</td>\n",
       "      <td>https://www.mmobomb.com/enlisted</td>\n",
       "    </tr>\n",
       "    <tr>\n",
       "      <th>4</th>\n",
       "      <td>1120</td>\n",
       "      <td>Fall Guys</td>\n",
       "      <td>https://www.mmobomb.com/g/1120/thumbnail.jpg</td>\n",
       "      <td>Fall Guys is a free-to-play massively multipla...</td>\n",
       "      <td>https://www.mmobomb.com/open/fall-guys</td>\n",
       "      <td>Battle Royale</td>\n",
       "      <td>PC (Windows)</td>\n",
       "      <td>Mediatonic</td>\n",
       "      <td>Mediatonic</td>\n",
       "      <td>2020-08-04</td>\n",
       "      <td>https://www.mmobomb.com/fall-guys</td>\n",
       "    </tr>\n",
       "  </tbody>\n",
       "</table>\n",
       "</div>"
      ],
      "text/plain": [
       "     id                title                                     thumbnail  \\\n",
       "0  1136          Overwatch 2  https://www.mmobomb.com/g/1136/thumbnail.jpg   \n",
       "1   523             Lost Ark   https://www.mmobomb.com/g/523/thumbnail.jpg   \n",
       "2  1113  PUBG: BATTLEGROUNDS  https://www.mmobomb.com/g/1113/thumbnail.jpg   \n",
       "3   508             Enlisted   https://www.mmobomb.com/g/508/thumbnail.jpg   \n",
       "4  1120            Fall Guys  https://www.mmobomb.com/g/1120/thumbnail.jpg   \n",
       "\n",
       "                                   short_description  \\\n",
       "0  Big changes come to the Overwatch formula in t...   \n",
       "1  Journey throughout the realm of Arkesia and do...   \n",
       "2  Battle the odds in a 100v1 death match in PUBG...   \n",
       "3  Step into the most famous battles of World War...   \n",
       "4  Fall Guys is a free-to-play massively multipla...   \n",
       "\n",
       "                                   game_url          genre      platform  \\\n",
       "0  https://www.mmobomb.com/open/overwatch-2        Shooter  PC (Windows)   \n",
       "1     https://www.mmobomb.com/open/lost-ark           ARPG  PC (Windows)   \n",
       "2         https://www.mmobomb.com/open/pubg        Shooter  PC (Windows)   \n",
       "3     https://www.mmobomb.com/open/enlisted        Shooter  PC (Windows)   \n",
       "4    https://www.mmobomb.com/open/fall-guys  Battle Royale  PC (Windows)   \n",
       "\n",
       "                  publisher               developer release_date  \\\n",
       "0  Activision Blizzard King  Blizzard Entertainment   2022-10-04   \n",
       "1              Amazon Games               Smilegate   2022-02-11   \n",
       "2             KRAFTON, Inc.           KRAFTON, Inc.   2022-01-12   \n",
       "3      Gaijin Entertainment       Darkflow Software   2021-04-08   \n",
       "4                Mediatonic              Mediatonic   2020-08-04   \n",
       "\n",
       "                           profile_url  \n",
       "0  https://www.mmobomb.com/overwatch-2  \n",
       "1     https://www.mmobomb.com/lost-ark  \n",
       "2         https://www.mmobomb.com/pubg  \n",
       "3     https://www.mmobomb.com/enlisted  \n",
       "4    https://www.mmobomb.com/fall-guys  "
      ]
     },
     "execution_count": 22,
     "metadata": {},
     "output_type": "execute_result"
    }
   ],
   "source": [
    "dados_jogos = pd.DataFrame(response.json())\n",
    "dados_jogos.head()"
   ]
  },
  {
   "cell_type": "code",
   "execution_count": 23,
   "metadata": {},
   "outputs": [
    {
     "data": {
      "text/plain": [
       "genre\n",
       "MMORPG           156\n",
       "Shooter           95\n",
       "Strategy          56\n",
       "Card Game         32\n",
       "MOBA              18\n",
       "Fighting           9\n",
       "Sports             8\n",
       "MMO                7\n",
       "Battle Royale      6\n",
       "Social             5\n",
       "Racing             3\n",
       "ARPG               2\n",
       "Action Game        2\n",
       "MMOARPG            1\n",
       "Action RPG         1\n",
       "MMOTPS             1\n",
       "MMOFPS             1\n",
       " MMORPG            1\n",
       "Fantasy            1\n",
       "Name: count, dtype: int64"
      ]
     },
     "execution_count": 23,
     "metadata": {},
     "output_type": "execute_result"
    }
   ],
   "source": [
    "genre_count = dados_jogos['genre'].value_counts()\n",
    "genre_count"
   ]
  },
  {
   "cell_type": "code",
   "execution_count": 24,
   "metadata": {},
   "outputs": [
    {
     "data": {
      "text/html": [
       "<div>\n",
       "<style scoped>\n",
       "    .dataframe tbody tr th:only-of-type {\n",
       "        vertical-align: middle;\n",
       "    }\n",
       "\n",
       "    .dataframe tbody tr th {\n",
       "        vertical-align: top;\n",
       "    }\n",
       "\n",
       "    .dataframe thead th {\n",
       "        text-align: right;\n",
       "    }\n",
       "</style>\n",
       "<table border=\"1\" class=\"dataframe\">\n",
       "  <thead>\n",
       "    <tr style=\"text-align: right;\">\n",
       "      <th></th>\n",
       "      <th>id</th>\n",
       "      <th>title</th>\n",
       "      <th>thumbnail</th>\n",
       "      <th>short_description</th>\n",
       "      <th>game_url</th>\n",
       "      <th>genre</th>\n",
       "      <th>platform</th>\n",
       "      <th>publisher</th>\n",
       "      <th>developer</th>\n",
       "      <th>release_date</th>\n",
       "      <th>profile_url</th>\n",
       "    </tr>\n",
       "  </thead>\n",
       "  <tbody>\n",
       "    <tr>\n",
       "      <th>400</th>\n",
       "      <td>17</td>\n",
       "      <td>Entropia Universe</td>\n",
       "      <td>https://www.mmobomb.com/g/17/thumbnail.jpg</td>\n",
       "      <td>Entropia Universe is free to play 3D Sci-Fi MM...</td>\n",
       "      <td>https://www.mmobomb.com/open/entropia-universe</td>\n",
       "      <td>MMORPG</td>\n",
       "      <td>PC (Windows)</td>\n",
       "      <td>MindArk</td>\n",
       "      <td>MindArk</td>\n",
       "      <td>2003-01-30</td>\n",
       "      <td>https://www.mmobomb.com/entropia-universe</td>\n",
       "    </tr>\n",
       "    <tr>\n",
       "      <th>401</th>\n",
       "      <td>432</td>\n",
       "      <td>Habbo</td>\n",
       "      <td>https://www.mmobomb.com/g/432/thumbnail.jpg</td>\n",
       "      <td>Habbo is a virtual hotel environment where pla...</td>\n",
       "      <td>https://www.mmobomb.com/open/habbo</td>\n",
       "      <td>Social</td>\n",
       "      <td>Web Browser</td>\n",
       "      <td>Sulake Corporation</td>\n",
       "      <td>Sulake Corporation</td>\n",
       "      <td>2001-09-26</td>\n",
       "      <td>https://www.mmobomb.com/habbo</td>\n",
       "    </tr>\n",
       "    <tr>\n",
       "      <th>402</th>\n",
       "      <td>336</td>\n",
       "      <td>Anarchy Online</td>\n",
       "      <td>https://www.mmobomb.com/g/336/thumbnail.jpg</td>\n",
       "      <td>Anarchy Online is a 3D Sci-Fi MMORPG originall...</td>\n",
       "      <td>https://www.mmobomb.com/open/anarchy-online</td>\n",
       "      <td>MMORPG</td>\n",
       "      <td>PC (Windows)</td>\n",
       "      <td>Funcom</td>\n",
       "      <td>Funcom</td>\n",
       "      <td>2001-06-27</td>\n",
       "      <td>https://www.mmobomb.com/anarchy-online</td>\n",
       "    </tr>\n",
       "    <tr>\n",
       "      <th>403</th>\n",
       "      <td>339</td>\n",
       "      <td>Tibia</td>\n",
       "      <td>https://www.mmobomb.com/g/339/thumbnail.jpg</td>\n",
       "      <td>Tibia is a classic 2D medieval MMORPG created ...</td>\n",
       "      <td>https://www.mmobomb.com/open/tibia</td>\n",
       "      <td>MMORPG</td>\n",
       "      <td>PC (Windows)</td>\n",
       "      <td>CipSoft</td>\n",
       "      <td>CipSoft</td>\n",
       "      <td>1997-01-07</td>\n",
       "      <td>https://www.mmobomb.com/tibia</td>\n",
       "    </tr>\n",
       "    <tr>\n",
       "      <th>404</th>\n",
       "      <td>405</td>\n",
       "      <td>Pocket Starships</td>\n",
       "      <td>https://www.mmobomb.com/g/405/thumbnail.jpg</td>\n",
       "      <td>Blast off into adventure in Pocket Starships, ...</td>\n",
       "      <td>https://www.mmobomb.com/open/pocket-starships</td>\n",
       "      <td>Strategy</td>\n",
       "      <td>Web Browser</td>\n",
       "      <td>Spyr</td>\n",
       "      <td>Spyr</td>\n",
       "      <td>0000-00-00</td>\n",
       "      <td>https://www.mmobomb.com/pocket-starships</td>\n",
       "    </tr>\n",
       "  </tbody>\n",
       "</table>\n",
       "</div>"
      ],
      "text/plain": [
       "      id              title                                    thumbnail  \\\n",
       "400   17  Entropia Universe   https://www.mmobomb.com/g/17/thumbnail.jpg   \n",
       "401  432              Habbo  https://www.mmobomb.com/g/432/thumbnail.jpg   \n",
       "402  336     Anarchy Online  https://www.mmobomb.com/g/336/thumbnail.jpg   \n",
       "403  339              Tibia  https://www.mmobomb.com/g/339/thumbnail.jpg   \n",
       "404  405   Pocket Starships  https://www.mmobomb.com/g/405/thumbnail.jpg   \n",
       "\n",
       "                                     short_description  \\\n",
       "400  Entropia Universe is free to play 3D Sci-Fi MM...   \n",
       "401  Habbo is a virtual hotel environment where pla...   \n",
       "402  Anarchy Online is a 3D Sci-Fi MMORPG originall...   \n",
       "403  Tibia is a classic 2D medieval MMORPG created ...   \n",
       "404  Blast off into adventure in Pocket Starships, ...   \n",
       "\n",
       "                                           game_url     genre      platform  \\\n",
       "400  https://www.mmobomb.com/open/entropia-universe    MMORPG  PC (Windows)   \n",
       "401              https://www.mmobomb.com/open/habbo    Social   Web Browser   \n",
       "402     https://www.mmobomb.com/open/anarchy-online    MMORPG  PC (Windows)   \n",
       "403              https://www.mmobomb.com/open/tibia    MMORPG  PC (Windows)   \n",
       "404   https://www.mmobomb.com/open/pocket-starships  Strategy   Web Browser   \n",
       "\n",
       "              publisher           developer release_date  \\\n",
       "400             MindArk             MindArk   2003-01-30   \n",
       "401  Sulake Corporation  Sulake Corporation   2001-09-26   \n",
       "402              Funcom              Funcom   2001-06-27   \n",
       "403             CipSoft             CipSoft   1997-01-07   \n",
       "404                Spyr                Spyr   0000-00-00   \n",
       "\n",
       "                                   profile_url  \n",
       "400  https://www.mmobomb.com/entropia-universe  \n",
       "401              https://www.mmobomb.com/habbo  \n",
       "402     https://www.mmobomb.com/anarchy-online  \n",
       "403              https://www.mmobomb.com/tibia  \n",
       "404   https://www.mmobomb.com/pocket-starships  "
      ]
     },
     "execution_count": 24,
     "metadata": {},
     "output_type": "execute_result"
    }
   ],
   "source": [
    "dados_jogos.tail()"
   ]
  },
  {
   "cell_type": "code",
   "execution_count": 25,
   "metadata": {},
   "outputs": [
    {
     "data": {
      "text/plain": [
       "353    AION\n",
       "Name: title, dtype: object"
      ]
     },
     "execution_count": 25,
     "metadata": {},
     "output_type": "execute_result"
    }
   ],
   "source": [
    "title_publisher = 'NCSOFT'\n",
    "publisher_NCSOFT = dados_jogos.loc[dados_jogos['publisher']==title_publisher, 'title']\n",
    "publisher_NCSOFT"
   ]
  },
  {
   "cell_type": "code",
   "execution_count": 26,
   "metadata": {},
   "outputs": [
    {
     "data": {
      "text/plain": [
       "id                                                                 254\n",
       "title                                                             AION\n",
       "thumbnail                  https://www.mmobomb.com/g/254/thumbnail.jpg\n",
       "short_description    Aion: Ascension is a free to play visually stu...\n",
       "game_url                             https://www.mmobomb.com/open/aion\n",
       "genre                                                           MMORPG\n",
       "platform                                                  PC (Windows)\n",
       "publisher                                                       NCSOFT\n",
       "developer                                                       NCSOFT\n",
       "release_date                                                2008-11-25\n",
       "profile_url                               https://www.mmobomb.com/aion\n",
       "Name: 353, dtype: object"
      ]
     },
     "execution_count": 26,
     "metadata": {},
     "output_type": "execute_result"
    }
   ],
   "source": [
    "id = 353\n",
    "id_visualize = dados_jogos.iloc[id]\n",
    "id_visualize"
   ]
  },
  {
   "cell_type": "code",
   "execution_count": 27,
   "metadata": {},
   "outputs": [
    {
     "name": "stdout",
     "output_type": "stream",
     "text": [
      "<class 'pandas.core.frame.DataFrame'>\n",
      "RangeIndex: 405 entries, 0 to 404\n",
      "Data columns (total 11 columns):\n",
      " #   Column             Non-Null Count  Dtype \n",
      "---  ------             --------------  ----- \n",
      " 0   id                 405 non-null    int64 \n",
      " 1   title              405 non-null    object\n",
      " 2   thumbnail          405 non-null    object\n",
      " 3   short_description  405 non-null    object\n",
      " 4   game_url           405 non-null    object\n",
      " 5   genre              405 non-null    object\n",
      " 6   platform           405 non-null    object\n",
      " 7   publisher          405 non-null    object\n",
      " 8   developer          405 non-null    object\n",
      " 9   release_date       405 non-null    object\n",
      " 10  profile_url        405 non-null    object\n",
      "dtypes: int64(1), object(10)\n",
      "memory usage: 34.9+ KB\n"
     ]
    }
   ],
   "source": [
    "dados_jogos.info()"
   ]
  },
  {
   "cell_type": "code",
   "execution_count": 28,
   "metadata": {},
   "outputs": [
    {
     "name": "stdout",
     "output_type": "stream",
     "text": [
      "<class 'pandas.core.frame.DataFrame'>\n",
      "RangeIndex: 405 entries, 0 to 404\n",
      "Data columns (total 11 columns):\n",
      " #   Column             Non-Null Count  Dtype         \n",
      "---  ------             --------------  -----         \n",
      " 0   id                 405 non-null    int64         \n",
      " 1   title              405 non-null    object        \n",
      " 2   thumbnail          405 non-null    object        \n",
      " 3   short_description  405 non-null    object        \n",
      " 4   game_url           405 non-null    object        \n",
      " 5   genre              405 non-null    object        \n",
      " 6   platform           405 non-null    object        \n",
      " 7   publisher          405 non-null    object        \n",
      " 8   developer          405 non-null    object        \n",
      " 9   release_date       404 non-null    datetime64[ns]\n",
      " 10  profile_url        405 non-null    object        \n",
      "dtypes: datetime64[ns](1), int64(1), object(9)\n",
      "memory usage: 34.9+ KB\n"
     ]
    }
   ],
   "source": [
    "try:\n",
    "    dados_jogos['release_date'] = pd.to_datetime(dados_jogos['release_date'], format='%Y-%m-%d', errors='coerce')\n",
    "except ValueError as e:\n",
    "    print(f\"Erro: {e}\")\n",
    "\n",
    "dados_jogos.info()"
   ]
  },
  {
   "cell_type": "code",
   "execution_count": 29,
   "metadata": {},
   "outputs": [
    {
     "data": {
      "text/html": [
       "<div>\n",
       "<style scoped>\n",
       "    .dataframe tbody tr th:only-of-type {\n",
       "        vertical-align: middle;\n",
       "    }\n",
       "\n",
       "    .dataframe tbody tr th {\n",
       "        vertical-align: top;\n",
       "    }\n",
       "\n",
       "    .dataframe thead th {\n",
       "        text-align: right;\n",
       "    }\n",
       "</style>\n",
       "<table border=\"1\" class=\"dataframe\">\n",
       "  <thead>\n",
       "    <tr style=\"text-align: right;\">\n",
       "      <th></th>\n",
       "      <th>title</th>\n",
       "      <th>release_date</th>\n",
       "    </tr>\n",
       "  </thead>\n",
       "  <tbody>\n",
       "    <tr>\n",
       "      <th>403</th>\n",
       "      <td>Tibia</td>\n",
       "      <td>1997-01-07</td>\n",
       "    </tr>\n",
       "    <tr>\n",
       "      <th>45</th>\n",
       "      <td>RuneScape</td>\n",
       "      <td>2001-01-04</td>\n",
       "    </tr>\n",
       "    <tr>\n",
       "      <th>44</th>\n",
       "      <td>The Lord of the Rings Online</td>\n",
       "      <td>2001-04-24</td>\n",
       "    </tr>\n",
       "    <tr>\n",
       "      <th>402</th>\n",
       "      <td>Anarchy Online</td>\n",
       "      <td>2001-06-27</td>\n",
       "    </tr>\n",
       "    <tr>\n",
       "      <th>401</th>\n",
       "      <td>Habbo</td>\n",
       "      <td>2001-09-26</td>\n",
       "    </tr>\n",
       "    <tr>\n",
       "      <th>...</th>\n",
       "      <td>...</td>\n",
       "      <td>...</td>\n",
       "    </tr>\n",
       "    <tr>\n",
       "      <th>51</th>\n",
       "      <td>The First Descendant</td>\n",
       "      <td>2024-07-02</td>\n",
       "    </tr>\n",
       "    <tr>\n",
       "      <th>52</th>\n",
       "      <td>Once Human</td>\n",
       "      <td>2024-07-09</td>\n",
       "    </tr>\n",
       "    <tr>\n",
       "      <th>50</th>\n",
       "      <td>Stormgate</td>\n",
       "      <td>2024-08-13</td>\n",
       "    </tr>\n",
       "    <tr>\n",
       "      <th>49</th>\n",
       "      <td>Spectre Divide</td>\n",
       "      <td>2024-09-03</td>\n",
       "    </tr>\n",
       "    <tr>\n",
       "      <th>404</th>\n",
       "      <td>Pocket Starships</td>\n",
       "      <td>NaT</td>\n",
       "    </tr>\n",
       "  </tbody>\n",
       "</table>\n",
       "<p>405 rows × 2 columns</p>\n",
       "</div>"
      ],
      "text/plain": [
       "                            title release_date\n",
       "403                         Tibia   1997-01-07\n",
       "45                      RuneScape   2001-01-04\n",
       "44   The Lord of the Rings Online   2001-04-24\n",
       "402                Anarchy Online   2001-06-27\n",
       "401                         Habbo   2001-09-26\n",
       "..                            ...          ...\n",
       "51           The First Descendant   2024-07-02\n",
       "52                     Once Human   2024-07-09\n",
       "50                      Stormgate   2024-08-13\n",
       "49                 Spectre Divide   2024-09-03\n",
       "404              Pocket Starships          NaT\n",
       "\n",
       "[405 rows x 2 columns]"
      ]
     },
     "execution_count": 29,
     "metadata": {},
     "output_type": "execute_result"
    }
   ],
   "source": [
    "jogos_antigos = dados_jogos.sort_values(by='release_date', ascending=True)\n",
    "jogos_antigos[['title', 'release_date']]"
   ]
  },
  {
   "cell_type": "code",
   "execution_count": 30,
   "metadata": {},
   "outputs": [
    {
     "data": {
      "text/plain": [
       "platform\n",
       "PC (Windows)                 322\n",
       "Web Browser                   72\n",
       "PC (Windows), Web Browser     11\n",
       "Name: count, dtype: int64"
      ]
     },
     "execution_count": 30,
     "metadata": {},
     "output_type": "execute_result"
    }
   ],
   "source": [
    "dados_jogos['platform'].value_counts()"
   ]
  },
  {
   "cell_type": "code",
   "execution_count": 31,
   "metadata": {},
   "outputs": [
    {
     "data": {
      "text/plain": [
       "genre\n",
       "MMORPG           156\n",
       "Shooter           95\n",
       "Strategy          56\n",
       "Card Game         32\n",
       "MOBA              18\n",
       "Fighting           9\n",
       "Sports             8\n",
       "MMO                7\n",
       "Battle Royale      6\n",
       "Social             5\n",
       "Racing             3\n",
       "ARPG               2\n",
       "Action Game        2\n",
       "MMOARPG            1\n",
       "Action RPG         1\n",
       "MMOTPS             1\n",
       "MMOFPS             1\n",
       " MMORPG            1\n",
       "Fantasy            1\n",
       "Name: count, dtype: int64"
      ]
     },
     "execution_count": 31,
     "metadata": {},
     "output_type": "execute_result"
    }
   ],
   "source": [
    "genre_count = dados_jogos['genre'].value_counts()\n",
    "genre_count"
   ]
  },
  {
   "cell_type": "code",
   "execution_count": 32,
   "metadata": {},
   "outputs": [],
   "source": [
    "dados_genero = genre_count.reset_index()\n",
    "dados_genero.columns = ['Genre', 'Number of Titles']"
   ]
  },
  {
   "cell_type": "code",
   "execution_count": 34,
   "metadata": {},
   "outputs": [
    {
     "data": {
      "image/png": "[encoded data removed]",
      "text/plain": [
       "<Figure size 900x600 with 1 Axes>"
      ]
     },
     "metadata": {},
     "output_type": "display_data"
    }
   ],
   "source": [
    "import matplotlib.pyplot as plt\n",
    "dados_genero.plot(x='Genre', y='Number of Titles', kind='bar', figsize=(9,6))\n",
    "plt.title('Jogos por Genero')\n",
    "plt.show()"
   ]
  },
  {
   "cell_type": "code",
   "execution_count": 35,
   "metadata": {},
   "outputs": [
    {
     "data": {
      "text/html": [
       "<div>\n",
       "<style scoped>\n",
       "    .dataframe tbody tr th:only-of-type {\n",
       "        vertical-align: middle;\n",
       "    }\n",
       "\n",
       "    .dataframe tbody tr th {\n",
       "        vertical-align: top;\n",
       "    }\n",
       "\n",
       "    .dataframe thead th {\n",
       "        text-align: right;\n",
       "    }\n",
       "</style>\n",
       "<table border=\"1\" class=\"dataframe\">\n",
       "  <thead>\n",
       "    <tr style=\"text-align: right;\">\n",
       "      <th></th>\n",
       "      <th>id</th>\n",
       "      <th>title</th>\n",
       "      <th>thumbnail</th>\n",
       "      <th>short_description</th>\n",
       "      <th>game_url</th>\n",
       "      <th>genre</th>\n",
       "      <th>platform</th>\n",
       "      <th>publisher</th>\n",
       "      <th>developer</th>\n",
       "      <th>release_date</th>\n",
       "      <th>profile_url</th>\n",
       "      <th>release_year</th>\n",
       "    </tr>\n",
       "  </thead>\n",
       "  <tbody>\n",
       "    <tr>\n",
       "      <th>0</th>\n",
       "      <td>1136</td>\n",
       "      <td>Overwatch 2</td>\n",
       "      <td>https://www.mmobomb.com/g/1136/thumbnail.jpg</td>\n",
       "      <td>Big changes come to the Overwatch formula in t...</td>\n",
       "      <td>https://www.mmobomb.com/open/overwatch-2</td>\n",
       "      <td>Shooter</td>\n",
       "      <td>PC (Windows)</td>\n",
       "      <td>Activision Blizzard King</td>\n",
       "      <td>Blizzard Entertainment</td>\n",
       "      <td>2022-10-04</td>\n",
       "      <td>https://www.mmobomb.com/overwatch-2</td>\n",
       "      <td>2022</td>\n",
       "    </tr>\n",
       "    <tr>\n",
       "      <th>1</th>\n",
       "      <td>523</td>\n",
       "      <td>Lost Ark</td>\n",
       "      <td>https://www.mmobomb.com/g/523/thumbnail.jpg</td>\n",
       "      <td>Journey throughout the realm of Arkesia and do...</td>\n",
       "      <td>https://www.mmobomb.com/open/lost-ark</td>\n",
       "      <td>ARPG</td>\n",
       "      <td>PC (Windows)</td>\n",
       "      <td>Amazon Games</td>\n",
       "      <td>Smilegate</td>\n",
       "      <td>2022-02-11</td>\n",
       "      <td>https://www.mmobomb.com/lost-ark</td>\n",
       "      <td>2022</td>\n",
       "    </tr>\n",
       "    <tr>\n",
       "      <th>2</th>\n",
       "      <td>1113</td>\n",
       "      <td>PUBG: BATTLEGROUNDS</td>\n",
       "      <td>https://www.mmobomb.com/g/1113/thumbnail.jpg</td>\n",
       "      <td>Battle the odds in a 100v1 death match in PUBG...</td>\n",
       "      <td>https://www.mmobomb.com/open/pubg</td>\n",
       "      <td>Shooter</td>\n",
       "      <td>PC (Windows)</td>\n",
       "      <td>KRAFTON, Inc.</td>\n",
       "      <td>KRAFTON, Inc.</td>\n",
       "      <td>2022-01-12</td>\n",
       "      <td>https://www.mmobomb.com/pubg</td>\n",
       "      <td>2022</td>\n",
       "    </tr>\n",
       "    <tr>\n",
       "      <th>3</th>\n",
       "      <td>508</td>\n",
       "      <td>Enlisted</td>\n",
       "      <td>https://www.mmobomb.com/g/508/thumbnail.jpg</td>\n",
       "      <td>Step into the most famous battles of World War...</td>\n",
       "      <td>https://www.mmobomb.com/open/enlisted</td>\n",
       "      <td>Shooter</td>\n",
       "      <td>PC (Windows)</td>\n",
       "      <td>Gaijin Entertainment</td>\n",
       "      <td>Darkflow Software</td>\n",
       "      <td>2021-04-08</td>\n",
       "      <td>https://www.mmobomb.com/enlisted</td>\n",
       "      <td>2021</td>\n",
       "    </tr>\n",
       "    <tr>\n",
       "      <th>4</th>\n",
       "      <td>1120</td>\n",
       "      <td>Fall Guys</td>\n",
       "      <td>https://www.mmobomb.com/g/1120/thumbnail.jpg</td>\n",
       "      <td>Fall Guys is a free-to-play massively multipla...</td>\n",
       "      <td>https://www.mmobomb.com/open/fall-guys</td>\n",
       "      <td>Battle Royale</td>\n",
       "      <td>PC (Windows)</td>\n",
       "      <td>Mediatonic</td>\n",
       "      <td>Mediatonic</td>\n",
       "      <td>2020-08-04</td>\n",
       "      <td>https://www.mmobomb.com/fall-guys</td>\n",
       "      <td>2020</td>\n",
       "    </tr>\n",
       "  </tbody>\n",
       "</table>\n",
       "</div>"
      ],
      "text/plain": [
       "     id                title                                     thumbnail  \\\n",
       "0  1136          Overwatch 2  https://www.mmobomb.com/g/1136/thumbnail.jpg   \n",
       "1   523             Lost Ark   https://www.mmobomb.com/g/523/thumbnail.jpg   \n",
       "2  1113  PUBG: BATTLEGROUNDS  https://www.mmobomb.com/g/1113/thumbnail.jpg   \n",
       "3   508             Enlisted   https://www.mmobomb.com/g/508/thumbnail.jpg   \n",
       "4  1120            Fall Guys  https://www.mmobomb.com/g/1120/thumbnail.jpg   \n",
       "\n",
       "                                   short_description  \\\n",
       "0  Big changes come to the Overwatch formula in t...   \n",
       "1  Journey throughout the realm of Arkesia and do...   \n",
       "2  Battle the odds in a 100v1 death match in PUBG...   \n",
       "3  Step into the most famous battles of World War...   \n",
       "4  Fall Guys is a free-to-play massively multipla...   \n",
       "\n",
       "                                   game_url          genre      platform  \\\n",
       "0  https://www.mmobomb.com/open/overwatch-2        Shooter  PC (Windows)   \n",
       "1     https://www.mmobomb.com/open/lost-ark           ARPG  PC (Windows)   \n",
       "2         https://www.mmobomb.com/open/pubg        Shooter  PC (Windows)   \n",
       "3     https://www.mmobomb.com/open/enlisted        Shooter  PC (Windows)   \n",
       "4    https://www.mmobomb.com/open/fall-guys  Battle Royale  PC (Windows)   \n",
       "\n",
       "                  publisher               developer release_date  \\\n",
       "0  Activision Blizzard King  Blizzard Entertainment   2022-10-04   \n",
       "1              Amazon Games               Smilegate   2022-02-11   \n",
       "2             KRAFTON, Inc.           KRAFTON, Inc.   2022-01-12   \n",
       "3      Gaijin Entertainment       Darkflow Software   2021-04-08   \n",
       "4                Mediatonic              Mediatonic   2020-08-04   \n",
       "\n",
       "                           profile_url release_year  \n",
       "0  https://www.mmobomb.com/overwatch-2         2022  \n",
       "1     https://www.mmobomb.com/lost-ark         2022  \n",
       "2         https://www.mmobomb.com/pubg         2022  \n",
       "3     https://www.mmobomb.com/enlisted         2021  \n",
       "4    https://www.mmobomb.com/fall-guys         2020  "
      ]
     },
     "execution_count": 35,
     "metadata": {},
     "output_type": "execute_result"
    }
   ],
   "source": [
    "dados_jogos['release_year'] = dados_jogos['release_date'].dt.strftime('%Y')\n",
    "dados_jogos.head()"
   ]
  },
  {
   "cell_type": "code",
   "execution_count": 36,
   "metadata": {},
   "outputs": [
    {
     "data": {
      "text/html": [
       "<div>\n",
       "<style scoped>\n",
       "    .dataframe tbody tr th:only-of-type {\n",
       "        vertical-align: middle;\n",
       "    }\n",
       "\n",
       "    .dataframe tbody tr th {\n",
       "        vertical-align: top;\n",
       "    }\n",
       "\n",
       "    .dataframe thead th {\n",
       "        text-align: right;\n",
       "    }\n",
       "</style>\n",
       "<table border=\"1\" class=\"dataframe\">\n",
       "  <thead>\n",
       "    <tr style=\"text-align: right;\">\n",
       "      <th></th>\n",
       "      <th>release_year</th>\n",
       "      <th>number_of_titles</th>\n",
       "    </tr>\n",
       "  </thead>\n",
       "  <tbody>\n",
       "    <tr>\n",
       "      <th>0</th>\n",
       "      <td>1997</td>\n",
       "      <td>1</td>\n",
       "    </tr>\n",
       "    <tr>\n",
       "      <th>1</th>\n",
       "      <td>2001</td>\n",
       "      <td>4</td>\n",
       "    </tr>\n",
       "    <tr>\n",
       "      <th>2</th>\n",
       "      <td>2003</td>\n",
       "      <td>5</td>\n",
       "    </tr>\n",
       "    <tr>\n",
       "      <th>3</th>\n",
       "      <td>2004</td>\n",
       "      <td>7</td>\n",
       "    </tr>\n",
       "    <tr>\n",
       "      <th>4</th>\n",
       "      <td>2005</td>\n",
       "      <td>4</td>\n",
       "    </tr>\n",
       "    <tr>\n",
       "      <th>5</th>\n",
       "      <td>2006</td>\n",
       "      <td>10</td>\n",
       "    </tr>\n",
       "    <tr>\n",
       "      <th>6</th>\n",
       "      <td>2007</td>\n",
       "      <td>11</td>\n",
       "    </tr>\n",
       "    <tr>\n",
       "      <th>7</th>\n",
       "      <td>2008</td>\n",
       "      <td>14</td>\n",
       "    </tr>\n",
       "    <tr>\n",
       "      <th>8</th>\n",
       "      <td>2009</td>\n",
       "      <td>9</td>\n",
       "    </tr>\n",
       "    <tr>\n",
       "      <th>9</th>\n",
       "      <td>2010</td>\n",
       "      <td>7</td>\n",
       "    </tr>\n",
       "    <tr>\n",
       "      <th>10</th>\n",
       "      <td>2011</td>\n",
       "      <td>17</td>\n",
       "    </tr>\n",
       "    <tr>\n",
       "      <th>11</th>\n",
       "      <td>2012</td>\n",
       "      <td>20</td>\n",
       "    </tr>\n",
       "    <tr>\n",
       "      <th>12</th>\n",
       "      <td>2013</td>\n",
       "      <td>19</td>\n",
       "    </tr>\n",
       "    <tr>\n",
       "      <th>13</th>\n",
       "      <td>2014</td>\n",
       "      <td>33</td>\n",
       "    </tr>\n",
       "    <tr>\n",
       "      <th>14</th>\n",
       "      <td>2015</td>\n",
       "      <td>37</td>\n",
       "    </tr>\n",
       "    <tr>\n",
       "      <th>15</th>\n",
       "      <td>2016</td>\n",
       "      <td>29</td>\n",
       "    </tr>\n",
       "    <tr>\n",
       "      <th>16</th>\n",
       "      <td>2017</td>\n",
       "      <td>32</td>\n",
       "    </tr>\n",
       "    <tr>\n",
       "      <th>17</th>\n",
       "      <td>2018</td>\n",
       "      <td>24</td>\n",
       "    </tr>\n",
       "    <tr>\n",
       "      <th>18</th>\n",
       "      <td>2019</td>\n",
       "      <td>27</td>\n",
       "    </tr>\n",
       "    <tr>\n",
       "      <th>19</th>\n",
       "      <td>2020</td>\n",
       "      <td>22</td>\n",
       "    </tr>\n",
       "    <tr>\n",
       "      <th>20</th>\n",
       "      <td>2021</td>\n",
       "      <td>11</td>\n",
       "    </tr>\n",
       "    <tr>\n",
       "      <th>21</th>\n",
       "      <td>2022</td>\n",
       "      <td>27</td>\n",
       "    </tr>\n",
       "    <tr>\n",
       "      <th>22</th>\n",
       "      <td>2023</td>\n",
       "      <td>21</td>\n",
       "    </tr>\n",
       "    <tr>\n",
       "      <th>23</th>\n",
       "      <td>2024</td>\n",
       "      <td>13</td>\n",
       "    </tr>\n",
       "  </tbody>\n",
       "</table>\n",
       "</div>"
      ],
      "text/plain": [
       "   release_year  number_of_titles\n",
       "0          1997                 1\n",
       "1          2001                 4\n",
       "2          2003                 5\n",
       "3          2004                 7\n",
       "4          2005                 4\n",
       "5          2006                10\n",
       "6          2007                11\n",
       "7          2008                14\n",
       "8          2009                 9\n",
       "9          2010                 7\n",
       "10         2011                17\n",
       "11         2012                20\n",
       "12         2013                19\n",
       "13         2014                33\n",
       "14         2015                37\n",
       "15         2016                29\n",
       "16         2017                32\n",
       "17         2018                24\n",
       "18         2019                27\n",
       "19         2020                22\n",
       "20         2021                11\n",
       "21         2022                27\n",
       "22         2023                21\n",
       "23         2024                13"
      ]
     },
     "execution_count": 36,
     "metadata": {},
     "output_type": "execute_result"
    }
   ],
   "source": [
    "jogos_por_ano = dados_jogos.sort_values(by='release_year', ascending=True)\n",
    "jogos_por_ano = jogos_por_ano[['title', 'release_year']]\n",
    "\n",
    "jogos_por_ano = jogos_por_ano.groupby('release_year').size()\n",
    "jogos_por_ano = jogos_por_ano.reset_index()\n",
    "\n",
    "jogos_por_ano.columns = ['release_year', 'number_of_titles']\n",
    "\n",
    "\n",
    "jogos_por_ano"
   ]
  },
  {
   "cell_type": "code",
   "execution_count": 37,
   "metadata": {},
   "outputs": [
    {
     "data": {
      "image/png": "[encoded data removed]",
      "text/plain": [
       "<Figure size 900x600 with 1 Axes>"
      ]
     },
     "metadata": {},
     "output_type": "display_data"
    }
   ],
   "source": [
    "jogos_por_ano.plot(x='release_year', y='number_of_titles', figsize=(9,6))\n",
    "plt.title(\"Número de Jogos por Ano (1997 - 2024)\")\n",
    "plt.show()"
   ]
  },
  {
   "cell_type": "code",
   "execution_count": 38,
   "metadata": {},
   "outputs": [
    {
     "data": {
      "image/png": "[encoded data removed]",
      "text/plain": [
       "<Figure size 800x800 with 1 Axes>"
      ]
     },
     "metadata": {},
     "output_type": "display_data"
    }
   ],
   "source": [
    "jogos_por_plataforma = dados_jogos['platform'].value_counts()\n",
    "\n",
    "fig, ax = plt.subplots(figsize=(8, 8))\n",
    "jogos_por_plataforma.plot(\n",
    "    kind='pie',\n",
    "    ax=ax,\n",
    "    autopct='%1.1f%%',  \n",
    "    startangle=90  \n",
    ")\n",
    "\n",
    "ax.set_title('Proporção de Jogos por Plataforma')\n",
    "\n",
    "plt.show()"
   ]
  },
  {
   "cell_type": "code",
   "execution_count": 122,
   "metadata": {},
   "outputs": [],
   "source": [
    "dados_jogos.to_csv('dados_jogos.csv')"
   ]
  },
  {
   "cell_type": "code",
   "execution_count": 123,
   "metadata": {},
   "outputs": [
    {
     "data": {
      "text/plain": [
       "'https://api.github.com/user/repos'"
      ]
     },
     "execution_count": 123,
     "metadata": {},
     "output_type": "execute_result"
    }
   ],
   "source": [
    "api_base_url = 'https://api.github.com'\n",
    "url = f'{api_base_url}/user/repos'\n",
    "\n",
    "url"
   ]
  },
  {
   "cell_type": "code",
   "execution_count": 124,
   "metadata": {},
   "outputs": [
    {
     "data": {
      "text/plain": [
       "201"
      ]
     },
     "execution_count": 124,
     "metadata": {},
     "output_type": "execute_result"
    }
   ],
   "source": [
    "data = {\n",
    "    'name': 'Desafio TOTVS: Engenheiro de Dados Jr.',\n",
    "    'description': 'Coleta e Analise de Dados API Jogos ',\n",
    "    'private': False\n",
    "}\n",
    "\n",
    "response = requests.post(url, json=data, headers=headers)\n",
    "response.status_code"
   ]
  },
  {
   "cell_type": "code",
   "execution_count": 125,
   "metadata": {},
   "outputs": [],
   "source": [
    "import base64"
   ]
  },
  {
   "cell_type": "code",
   "execution_count": 126,
   "metadata": {},
   "outputs": [],
   "source": [
    "with open('dados_jogos.csv', 'rb') as file:\n",
    "    file_content = file.read()\n",
    "\n",
    "encoded_content = base64.b64encode(file_content)"
   ]
  },
  {
   "cell_type": "code",
   "execution_count": 128,
   "metadata": {},
   "outputs": [
    {
     "data": {
      "text/plain": [
       "'https://api.github.com/repos/smjoaopaulo/Desafio-TOTVS-Engenheiro-de-Dados-Jr./contents/dados_jogos.csv'"
      ]
     },
     "execution_count": 128,
     "metadata": {},
     "output_type": "execute_result"
    }
   ],
   "source": [
    "api_base_url = 'https://api.github.com'\n",
    "username = 'smjoaopaulo'\n",
    "repo = 'Desafio-TOTVS-Engenheiro-de-Dados-Jr.'\n",
    "path = 'dados_jogos.csv'\n",
    "\n",
    "url = f'{api_base_url}/repos/{username}/{repo}/contents/{path}'\n",
    "url"
   ]
  },
  {
   "cell_type": "code",
   "execution_count": 129,
   "metadata": {},
   "outputs": [
    {
     "data": {
      "text/plain": [
       "201"
      ]
     },
     "execution_count": 129,
     "metadata": {},
     "output_type": "execute_result"
    }
   ],
   "source": [
    "data = {\n",
    "    'message': 'Adicionando um novo arquivo',\n",
    "    'content': encoded_content.decode('utf-8')\n",
    "}\n",
    "\n",
    "response = requests.put(url, json=data, headers=headers)\n",
    "response.status_code"
   ]
  }
 ],
 "metadata": {
  "kernelspec": {
   "display_name": "Python 3",
   "language": "python",
   "name": "python3"
  },
  "language_info": {
   "codemirror_mode": {
    "name": "ipython",
    "version": 3
   },
   "file_extension": ".py",
   "mimetype": "text/x-python",
   "name": "python",
   "nbconvert_exporter": "python",
   "pygments_lexer": "ipython3",
   "version": "3.12.3"
  }
 },
 "nbformat": 4,
 "nbformat_minor": 2
}
