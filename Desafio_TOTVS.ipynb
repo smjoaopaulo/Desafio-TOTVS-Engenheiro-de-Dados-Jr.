{
  "nbformat": 4,
  "nbformat_minor": 0,
  "metadata": {
    "colab": {
      "provenance": [],
      "authorship_tag": "ABX9TyMsMpt+3IzAPWMiHi2bdHtd",
      "include_colab_link": true
    },
    "kernelspec": {
      "name": "python3",
      "display_name": "Python 3"
    },
    "language_info": {
      "name": "python"
    }
  },
  "cells": [
    {
      "cell_type": "markdown",
      "metadata": {
        "id": "view-in-github",
        "colab_type": "text"
      },
      "source": [
        "<a href=\"https://colab.research.google.com/github/smjoaopaulo/Desafio-TOTVS-Engenheiro-de-Dados-Jr./blob/main/Desafio_TOTVS.ipynb\" target=\"_parent\"><img src=\"https://colab.research.google.com/assets/colab-badge.svg\" alt=\"Open In Colab\"/></a>"
      ]
    },
    {
      "cell_type": "code",
      "execution_count": 1,
      "metadata": {
        "colab": {
          "base_uri": "https://localhost:8080/"
        },
        "id": "4XgsH-kiNT8h",
        "outputId": "2e09ced5-4e74-408c-eb77-bb4528a82cc8"
      },
      "outputs": [
        {
          "output_type": "stream",
          "name": "stdout",
          "text": [
            "W: Skipping acquire of configured file 'main/source/Sources' as repository 'https://r2u.stat.illinois.edu/ubuntu jammy InRelease' does not seem to provide it (sources.list entry misspelt?)\n"
          ]
        }
      ],
      "source": [
        "!apt-get update -qq\n",
        "!apt-get install openjdk-8-jdk-headless -qq > /dev/null\n",
        "!wget -q https://archive.apache.org/dist/spark/spark-3.1.2/spark-3.1.2-bin-hadoop2.7.tgz\n",
        "!tar xf spark-3.1.2-bin-hadoop2.7.tgz\n",
        "!pip install -q findspark"
      ]
    },
    {
      "cell_type": "code",
      "source": [
        "import os\n",
        "os.environ[\"JAVA_HOME\"] = \"/usr/lib/jvm/java-8-openjdk-amd64\"\n",
        "os.environ[\"SPARK_HOME\"] = \"/content/spark-3.1.2-bin-hadoop2.7\""
      ],
      "metadata": {
        "id": "MmAMoysQNaRu"
      },
      "execution_count": 2,
      "outputs": []
    },
    {
      "cell_type": "code",
      "source": [
        "import findspark\n",
        "findspark.init()"
      ],
      "metadata": {
        "id": "YvQmlMwiNqgo"
      },
      "execution_count": 3,
      "outputs": []
    },
    {
      "cell_type": "code",
      "source": [
        "from pyspark.sql import SparkSession\n",
        "\n",
        "spark = SparkSession.builder \\\n",
        "    .master('local[*]') \\\n",
        "    .appName(\"Desafio TOTVS\") \\\n",
        "    .getOrCreate()"
      ],
      "metadata": {
        "id": "9mZ_XThBNscb"
      },
      "execution_count": 4,
      "outputs": []
    },
    {
      "cell_type": "code",
      "source": [
        "spark = SparkSession.builder \\\n",
        "    .appName(\"Exemplo PySpark\") \\\n",
        "    .getOrCreate()"
      ],
      "metadata": {
        "id": "tUeNslNnNxGL"
      },
      "execution_count": 5,
      "outputs": []
    },
    {
      "cell_type": "code",
      "source": [
        "file_path = '/content/dados_jogos.csv'"
      ],
      "metadata": {
        "id": "PI4uG1WNN3jf"
      },
      "execution_count": 6,
      "outputs": []
    },
    {
      "cell_type": "code",
      "source": [
        "dados_jogos = spark.read.csv(file_path, header=True, inferSchema=True, sep=',')\n",
        "dados_jogos.show()"
      ],
      "metadata": {
        "colab": {
          "base_uri": "https://localhost:8080/"
        },
        "id": "0PZMhMd9N-Cm",
        "outputId": "e3479dc6-1fd2-424d-ffca-02b9ca9c5358"
      },
      "execution_count": 42,
      "outputs": [
        {
          "output_type": "stream",
          "name": "stdout",
          "text": [
            "+---+----+--------------------+--------------------+--------------------+--------------------+-------------+------------+--------------------+--------------------+------------+--------------------+------------+\n",
            "|_c0|  id|               title|           thumbnail|   short_description|            game_url|        genre|    platform|           publisher|           developer|release_date|         profile_url|release_year|\n",
            "+---+----+--------------------+--------------------+--------------------+--------------------+-------------+------------+--------------------+--------------------+------------+--------------------+------------+\n",
            "|  0|1136|         Overwatch 2|https://www.mmobo...|Big changes come ...|https://www.mmobo...|      Shooter|PC (Windows)|Activision Blizza...|Blizzard Entertai...|  2022-10-04|https://www.mmobo...|        2022|\n",
            "|  1| 523|            Lost Ark|https://www.mmobo...|Journey throughou...|https://www.mmobo...|         ARPG|PC (Windows)|        Amazon Games|           Smilegate|  2022-02-11|https://www.mmobo...|        2022|\n",
            "|  2|1113| PUBG: BATTLEGROUNDS|https://www.mmobo...|Battle the odds i...|https://www.mmobo...|      Shooter|PC (Windows)|       KRAFTON, Inc.|       KRAFTON, Inc.|  2022-01-12|https://www.mmobo...|        2022|\n",
            "|  3| 508|            Enlisted|https://www.mmobo...|Step into the mos...|https://www.mmobo...|      Shooter|PC (Windows)|Gaijin Entertainment|   Darkflow Software|  2021-04-08|https://www.mmobo...|        2021|\n",
            "|  4|1120|           Fall Guys|https://www.mmobo...|Fall Guys is a fr...|https://www.mmobo...|Battle Royale|PC (Windows)|          Mediatonic|          Mediatonic|  2020-08-04|https://www.mmobo...|        2020|\n",
            "|  5| 340|Game Of Thrones W...|https://www.mmobo...|Fame and glory aw...|https://www.mmobo...|     Strategy| Web Browser|            GTArcade|       YOOZOO Games |  2019-11-14|https://www.mmobo...|        2019|\n",
            "|  6| 380| Dark Orbit Reloaded|https://www.mmobo...|Take part in huge...|https://www.mmobo...|      Shooter| Web Browser|            Bigpoint|            Bigpoint|  2006-12-11|https://www.mmobo...|        2006|\n",
            "|  7|   5|            Crossout|https://www.mmobo...|Trick out your ri...|https://www.mmobo...|      Shooter|PC (Windows)|              Targem|              Gaijin|  2017-05-30|https://www.mmobo...|        2017|\n",
            "|  8| 347|             Elvenar|https://www.mmobo...|In InnoGames' Elv...|https://www.mmobo...|     Strategy| Web Browser|           InnoGames|           InnoGames|  2015-04-08|https://www.mmobo...|        2015|\n",
            "|  9|  11|         Neverwinter|https://www.mmobo...|Neverwinter is an...|https://www.mmobo...|       MMORPG|PC (Windows)|Perfect World Ent...|     Cryptic Studios|  2013-12-06|https://www.mmobo...|        2013|\n",
            "| 10| 345|    Forge of Empires|https://www.mmobo...|Forge of Empires ...|https://www.mmobo...|     Strategy| Web Browser|           InnoGames|           InnoGames|  2012-04-17|https://www.mmobo...|        2012|\n",
            "| 11|   2|      World of Tanks|https://www.mmobo...|World of Tanks is...|https://www.mmobo...|      Shooter|PC (Windows)|           Wargaming|           Wargaming|  2011-04-12|https://www.mmobo...|        2011|\n",
            "| 12|1181|           Tarisland|https://www.mmobo...|If you're looking...|https://www.mmobo...|       MMORPG|PC (Windows)|             Tencent|      Level Infinite|  2024-06-21|https://www.mmobo...|        2024|\n",
            "| 13|1118|     Diablo Immortal|https://www.mmobo...|Diablo Immortal i...|https://www.mmobo...|      MMOARPG|PC (Windows)| Activision Blizzard|Blizzard Entertai...|  2022-06-02|https://www.mmobo...|        2022|\n",
            "| 14|1180|            XDefiant|https://www.mmobo...|Ubisoft enters th...|https://www.mmobo...|      Shooter|PC (Windows)|             Ubisoft|             Ubisoft|  2024-05-21|https://www.mmobo...|        2024|\n",
            "| 15|1170|          THE FINALS|https://www.mmobo...|The world is watc...|https://www.mmobo...|      Shooter|PC (Windows)|      Embark Studios|      Embark Studios|  2023-12-07|https://www.mmobo...|        2023|\n",
            "| 16|1173|       Titan Revenge|https://www.mmobo...|Become an Angel o...|https://www.mmobo...|       MMORPG| Web Browser|Game Hollywood Games|Game Hollywood Games|  2023-12-20|https://www.mmobo...|        2023|\n",
            "| 17|1160|               Palia|https://www.mmobo...|Get your cozy MMO...|https://www.mmobo...|       MMORPG|PC (Windows)|     Singularity Six|     Singularity Six|  2023-08-10|https://www.mmobo...|        2023|\n",
            "| 18| 475|      Genshin Impact|https://www.mmobo...|Explore a bright ...|https://www.mmobo...|   Action RPG|PC (Windows)|              miHoYo|              miHoYo|  2020-09-28|https://www.mmobo...|        2020|\n",
            "| 19| 458|League of Angels ...|https://www.mmobo...|Embark on an epic...|https://www.mmobo...|       MMORPG| Web Browser|            Gtarcade|        Yoozoo Games|  2020-01-09|https://www.mmobo...|        2020|\n",
            "+---+----+--------------------+--------------------+--------------------+--------------------+-------------+------------+--------------------+--------------------+------------+--------------------+------------+\n",
            "only showing top 20 rows\n",
            "\n"
          ]
        }
      ]
    },
    {
      "cell_type": "code",
      "source": [
        "dados_jogos_apos2008 = dados_jogos.filter(dados_jogos['release_year'] > 2008)\n",
        "dados_jogos_apos2008.show()\n"
      ],
      "metadata": {
        "colab": {
          "base_uri": "https://localhost:8080/"
        },
        "id": "etDDMCH6On2H",
        "outputId": "2bfbf39f-65b3-4fb9-8155-b13f7a0ed44a"
      },
      "execution_count": 43,
      "outputs": [
        {
          "output_type": "stream",
          "name": "stdout",
          "text": [
            "+---+----+--------------------+--------------------+--------------------+--------------------+-------------+------------+--------------------+--------------------+------------+--------------------+------------+\n",
            "|_c0|  id|               title|           thumbnail|   short_description|            game_url|        genre|    platform|           publisher|           developer|release_date|         profile_url|release_year|\n",
            "+---+----+--------------------+--------------------+--------------------+--------------------+-------------+------------+--------------------+--------------------+------------+--------------------+------------+\n",
            "|  0|1136|         Overwatch 2|https://www.mmobo...|Big changes come ...|https://www.mmobo...|      Shooter|PC (Windows)|Activision Blizza...|Blizzard Entertai...|  2022-10-04|https://www.mmobo...|        2022|\n",
            "|  1| 523|            Lost Ark|https://www.mmobo...|Journey throughou...|https://www.mmobo...|         ARPG|PC (Windows)|        Amazon Games|           Smilegate|  2022-02-11|https://www.mmobo...|        2022|\n",
            "|  2|1113| PUBG: BATTLEGROUNDS|https://www.mmobo...|Battle the odds i...|https://www.mmobo...|      Shooter|PC (Windows)|       KRAFTON, Inc.|       KRAFTON, Inc.|  2022-01-12|https://www.mmobo...|        2022|\n",
            "|  3| 508|            Enlisted|https://www.mmobo...|Step into the mos...|https://www.mmobo...|      Shooter|PC (Windows)|Gaijin Entertainment|   Darkflow Software|  2021-04-08|https://www.mmobo...|        2021|\n",
            "|  4|1120|           Fall Guys|https://www.mmobo...|Fall Guys is a fr...|https://www.mmobo...|Battle Royale|PC (Windows)|          Mediatonic|          Mediatonic|  2020-08-04|https://www.mmobo...|        2020|\n",
            "|  5| 340|Game Of Thrones W...|https://www.mmobo...|Fame and glory aw...|https://www.mmobo...|     Strategy| Web Browser|            GTArcade|       YOOZOO Games |  2019-11-14|https://www.mmobo...|        2019|\n",
            "|  7|   5|            Crossout|https://www.mmobo...|Trick out your ri...|https://www.mmobo...|      Shooter|PC (Windows)|              Targem|              Gaijin|  2017-05-30|https://www.mmobo...|        2017|\n",
            "|  8| 347|             Elvenar|https://www.mmobo...|In InnoGames' Elv...|https://www.mmobo...|     Strategy| Web Browser|           InnoGames|           InnoGames|  2015-04-08|https://www.mmobo...|        2015|\n",
            "|  9|  11|         Neverwinter|https://www.mmobo...|Neverwinter is an...|https://www.mmobo...|       MMORPG|PC (Windows)|Perfect World Ent...|     Cryptic Studios|  2013-12-06|https://www.mmobo...|        2013|\n",
            "| 10| 345|    Forge of Empires|https://www.mmobo...|Forge of Empires ...|https://www.mmobo...|     Strategy| Web Browser|           InnoGames|           InnoGames|  2012-04-17|https://www.mmobo...|        2012|\n",
            "| 11|   2|      World of Tanks|https://www.mmobo...|World of Tanks is...|https://www.mmobo...|      Shooter|PC (Windows)|           Wargaming|           Wargaming|  2011-04-12|https://www.mmobo...|        2011|\n",
            "| 12|1181|           Tarisland|https://www.mmobo...|If you're looking...|https://www.mmobo...|       MMORPG|PC (Windows)|             Tencent|      Level Infinite|  2024-06-21|https://www.mmobo...|        2024|\n",
            "| 13|1118|     Diablo Immortal|https://www.mmobo...|Diablo Immortal i...|https://www.mmobo...|      MMOARPG|PC (Windows)| Activision Blizzard|Blizzard Entertai...|  2022-06-02|https://www.mmobo...|        2022|\n",
            "| 14|1180|            XDefiant|https://www.mmobo...|Ubisoft enters th...|https://www.mmobo...|      Shooter|PC (Windows)|             Ubisoft|             Ubisoft|  2024-05-21|https://www.mmobo...|        2024|\n",
            "| 15|1170|          THE FINALS|https://www.mmobo...|The world is watc...|https://www.mmobo...|      Shooter|PC (Windows)|      Embark Studios|      Embark Studios|  2023-12-07|https://www.mmobo...|        2023|\n",
            "| 16|1173|       Titan Revenge|https://www.mmobo...|Become an Angel o...|https://www.mmobo...|       MMORPG| Web Browser|Game Hollywood Games|Game Hollywood Games|  2023-12-20|https://www.mmobo...|        2023|\n",
            "| 17|1160|               Palia|https://www.mmobo...|Get your cozy MMO...|https://www.mmobo...|       MMORPG|PC (Windows)|     Singularity Six|     Singularity Six|  2023-08-10|https://www.mmobo...|        2023|\n",
            "| 18| 475|      Genshin Impact|https://www.mmobo...|Explore a bright ...|https://www.mmobo...|   Action RPG|PC (Windows)|              miHoYo|              miHoYo|  2020-09-28|https://www.mmobo...|        2020|\n",
            "| 19| 458|League of Angels ...|https://www.mmobo...|Embark on an epic...|https://www.mmobo...|       MMORPG| Web Browser|            Gtarcade|        Yoozoo Games|  2020-01-09|https://www.mmobo...|        2020|\n",
            "| 20|  21|           Destiny 2|https://www.mmobo...|Embark on a heroi...|https://www.mmobo...|      Shooter|PC (Windows)|              Bungie|              Bungie|  2019-10-01|https://www.mmobo...|        2019|\n",
            "+---+----+--------------------+--------------------+--------------------+--------------------+-------------+------------+--------------------+--------------------+------------+--------------------+------------+\n",
            "only showing top 20 rows\n",
            "\n"
          ]
        }
      ]
    },
    {
      "cell_type": "code",
      "source": [
        "from pyspark.sql.functions import when, col"
      ],
      "metadata": {
        "id": "j50zEOq1Pslk"
      },
      "execution_count": 44,
      "outputs": []
    },
    {
      "cell_type": "code",
      "source": [
        "dados_jogos = dados_jogos.withColumn('antiguidade',when(col('release_date').substr(1, 4).cast('int') < 2008, 'antigo').otherwise('novo'))"
      ],
      "metadata": {
        "id": "2xlt1BEjRCPC"
      },
      "execution_count": 45,
      "outputs": []
    },
    {
      "cell_type": "code",
      "source": [
        "dados_jogos.show()"
      ],
      "metadata": {
        "colab": {
          "base_uri": "https://localhost:8080/"
        },
        "id": "RvV9NE5nRL4l",
        "outputId": "2f708e51-8246-498a-e5e4-9ae819fa754b"
      },
      "execution_count": 46,
      "outputs": [
        {
          "output_type": "stream",
          "name": "stdout",
          "text": [
            "+---+----+--------------------+--------------------+--------------------+--------------------+-------------+------------+--------------------+--------------------+------------+--------------------+------------+-----------+\n",
            "|_c0|  id|               title|           thumbnail|   short_description|            game_url|        genre|    platform|           publisher|           developer|release_date|         profile_url|release_year|antiguidade|\n",
            "+---+----+--------------------+--------------------+--------------------+--------------------+-------------+------------+--------------------+--------------------+------------+--------------------+------------+-----------+\n",
            "|  0|1136|         Overwatch 2|https://www.mmobo...|Big changes come ...|https://www.mmobo...|      Shooter|PC (Windows)|Activision Blizza...|Blizzard Entertai...|  2022-10-04|https://www.mmobo...|        2022|       novo|\n",
            "|  1| 523|            Lost Ark|https://www.mmobo...|Journey throughou...|https://www.mmobo...|         ARPG|PC (Windows)|        Amazon Games|           Smilegate|  2022-02-11|https://www.mmobo...|        2022|       novo|\n",
            "|  2|1113| PUBG: BATTLEGROUNDS|https://www.mmobo...|Battle the odds i...|https://www.mmobo...|      Shooter|PC (Windows)|       KRAFTON, Inc.|       KRAFTON, Inc.|  2022-01-12|https://www.mmobo...|        2022|       novo|\n",
            "|  3| 508|            Enlisted|https://www.mmobo...|Step into the mos...|https://www.mmobo...|      Shooter|PC (Windows)|Gaijin Entertainment|   Darkflow Software|  2021-04-08|https://www.mmobo...|        2021|       novo|\n",
            "|  4|1120|           Fall Guys|https://www.mmobo...|Fall Guys is a fr...|https://www.mmobo...|Battle Royale|PC (Windows)|          Mediatonic|          Mediatonic|  2020-08-04|https://www.mmobo...|        2020|       novo|\n",
            "|  5| 340|Game Of Thrones W...|https://www.mmobo...|Fame and glory aw...|https://www.mmobo...|     Strategy| Web Browser|            GTArcade|       YOOZOO Games |  2019-11-14|https://www.mmobo...|        2019|       novo|\n",
            "|  6| 380| Dark Orbit Reloaded|https://www.mmobo...|Take part in huge...|https://www.mmobo...|      Shooter| Web Browser|            Bigpoint|            Bigpoint|  2006-12-11|https://www.mmobo...|        2006|     antigo|\n",
            "|  7|   5|            Crossout|https://www.mmobo...|Trick out your ri...|https://www.mmobo...|      Shooter|PC (Windows)|              Targem|              Gaijin|  2017-05-30|https://www.mmobo...|        2017|       novo|\n",
            "|  8| 347|             Elvenar|https://www.mmobo...|In InnoGames' Elv...|https://www.mmobo...|     Strategy| Web Browser|           InnoGames|           InnoGames|  2015-04-08|https://www.mmobo...|        2015|       novo|\n",
            "|  9|  11|         Neverwinter|https://www.mmobo...|Neverwinter is an...|https://www.mmobo...|       MMORPG|PC (Windows)|Perfect World Ent...|     Cryptic Studios|  2013-12-06|https://www.mmobo...|        2013|       novo|\n",
            "| 10| 345|    Forge of Empires|https://www.mmobo...|Forge of Empires ...|https://www.mmobo...|     Strategy| Web Browser|           InnoGames|           InnoGames|  2012-04-17|https://www.mmobo...|        2012|       novo|\n",
            "| 11|   2|      World of Tanks|https://www.mmobo...|World of Tanks is...|https://www.mmobo...|      Shooter|PC (Windows)|           Wargaming|           Wargaming|  2011-04-12|https://www.mmobo...|        2011|       novo|\n",
            "| 12|1181|           Tarisland|https://www.mmobo...|If you're looking...|https://www.mmobo...|       MMORPG|PC (Windows)|             Tencent|      Level Infinite|  2024-06-21|https://www.mmobo...|        2024|       novo|\n",
            "| 13|1118|     Diablo Immortal|https://www.mmobo...|Diablo Immortal i...|https://www.mmobo...|      MMOARPG|PC (Windows)| Activision Blizzard|Blizzard Entertai...|  2022-06-02|https://www.mmobo...|        2022|       novo|\n",
            "| 14|1180|            XDefiant|https://www.mmobo...|Ubisoft enters th...|https://www.mmobo...|      Shooter|PC (Windows)|             Ubisoft|             Ubisoft|  2024-05-21|https://www.mmobo...|        2024|       novo|\n",
            "| 15|1170|          THE FINALS|https://www.mmobo...|The world is watc...|https://www.mmobo...|      Shooter|PC (Windows)|      Embark Studios|      Embark Studios|  2023-12-07|https://www.mmobo...|        2023|       novo|\n",
            "| 16|1173|       Titan Revenge|https://www.mmobo...|Become an Angel o...|https://www.mmobo...|       MMORPG| Web Browser|Game Hollywood Games|Game Hollywood Games|  2023-12-20|https://www.mmobo...|        2023|       novo|\n",
            "| 17|1160|               Palia|https://www.mmobo...|Get your cozy MMO...|https://www.mmobo...|       MMORPG|PC (Windows)|     Singularity Six|     Singularity Six|  2023-08-10|https://www.mmobo...|        2023|       novo|\n",
            "| 18| 475|      Genshin Impact|https://www.mmobo...|Explore a bright ...|https://www.mmobo...|   Action RPG|PC (Windows)|              miHoYo|              miHoYo|  2020-09-28|https://www.mmobo...|        2020|       novo|\n",
            "| 19| 458|League of Angels ...|https://www.mmobo...|Embark on an epic...|https://www.mmobo...|       MMORPG| Web Browser|            Gtarcade|        Yoozoo Games|  2020-01-09|https://www.mmobo...|        2020|       novo|\n",
            "+---+----+--------------------+--------------------+--------------------+--------------------+-------------+------------+--------------------+--------------------+------------+--------------------+------------+-----------+\n",
            "only showing top 20 rows\n",
            "\n"
          ]
        }
      ]
    },
    {
      "cell_type": "code",
      "source": [
        "from pyspark.sql.functions import col, count"
      ],
      "metadata": {
        "id": "JFeeRG-sT8H2"
      },
      "execution_count": 47,
      "outputs": []
    },
    {
      "cell_type": "code",
      "source": [
        "genre_count = dados_jogos.groupBy('genre').agg(count('genre').alias('count'))"
      ],
      "metadata": {
        "id": "v6Nia8taRNz9"
      },
      "execution_count": 48,
      "outputs": []
    },
    {
      "cell_type": "code",
      "source": [
        "genre_count = genre_count.orderBy(col('count').desc())\n",
        "genre_count.show(1)"
      ],
      "metadata": {
        "colab": {
          "base_uri": "https://localhost:8080/"
        },
        "id": "R6_tHsfxT0ux",
        "outputId": "3b695aca-528c-43c5-d729-ad8ecf265ed9"
      },
      "execution_count": 49,
      "outputs": [
        {
          "output_type": "stream",
          "name": "stdout",
          "text": [
            "+------+-----+\n",
            "| genre|count|\n",
            "+------+-----+\n",
            "|MMORPG|  153|\n",
            "+------+-----+\n",
            "only showing top 1 row\n",
            "\n"
          ]
        }
      ]
    },
    {
      "cell_type": "code",
      "source": [
        "dados_jogos_NCSOFT = dados_jogos.filter(dados_jogos['publisher'] == 'NCSOFT')\n",
        "dados_jogos_NCSOFT.show()"
      ],
      "metadata": {
        "colab": {
          "base_uri": "https://localhost:8080/"
        },
        "id": "bCBxp1CoUt-z",
        "outputId": "3b19885a-6303-48e5-fd49-345acce9e76f"
      },
      "execution_count": 50,
      "outputs": [
        {
          "output_type": "stream",
          "name": "stdout",
          "text": [
            "+---+---+-----+--------------------+--------------------+--------------------+------+------------+---------+---------+------------+--------------------+------------+-----------+\n",
            "|_c0| id|title|           thumbnail|   short_description|            game_url| genre|    platform|publisher|developer|release_date|         profile_url|release_year|antiguidade|\n",
            "+---+---+-----+--------------------+--------------------+--------------------+------+------------+---------+---------+------------+--------------------+------------+-----------+\n",
            "|353|254| AION|https://www.mmobo...|Aion: Ascension i...|https://www.mmobo...|MMORPG|PC (Windows)|   NCSOFT|   NCSOFT|  2008-11-25|https://www.mmobo...|        2008|       novo|\n",
            "+---+---+-----+--------------------+--------------------+--------------------+------+------------+---------+---------+------------+--------------------+------------+-----------+\n",
            "\n"
          ]
        }
      ]
    },
    {
      "cell_type": "code",
      "source": [
        "dados_jogos_antigos = dados_jogos.orderBy(col('release_date').asc())\n",
        "dados_jogos_antigos.show(4)"
      ],
      "metadata": {
        "colab": {
          "base_uri": "https://localhost:8080/"
        },
        "id": "Eu835oGQVSFY",
        "outputId": "bd72e796-9ac0-4a74-db66-1985208a818a"
      },
      "execution_count": 51,
      "outputs": [
        {
          "output_type": "stream",
          "name": "stdout",
          "text": [
            "+--------------+-------------+----------------+--------------------+--------------------+--------------------+--------+------------+---------+---------+------------+--------------------+------------+-----------+\n",
            "|           _c0|           id|           title|           thumbnail|   short_description|            game_url|   genre|    platform|publisher|developer|release_date|         profile_url|release_year|antiguidade|\n",
            "+--------------+-------------+----------------+--------------------+--------------------+--------------------+--------+------------+---------+---------+------------+--------------------+------------+-----------+\n",
            "|           404|          405|Pocket Starships|https://www.mmobo...|Blast off into ad...|https://www.mmobo...|Strategy| Web Browser|     Spyr|     Spyr|        null|https://www.mmobo...|        null|       novo|\n",
            "|           250|          169|      Dirty Bomb|https://www.mmobo...|Dirty Bomb, forme...|https://www.mmobo...| Shooter|PC (Windows)|        \"|     null|        null|                null|        null|       novo|\n",
            "|Warchest Ltd.\"|Splash Damage|      2015-06-01|https://www.mmobo...|                2015|                null|    null|        null|     null|     null|        null|                null|        null|       novo|\n",
            "|           403|          339|           Tibia|https://www.mmobo...|Tibia is a classi...|https://www.mmobo...|  MMORPG|PC (Windows)|  CipSoft|  CipSoft|  1997-01-07|https://www.mmobo...|        1997|     antigo|\n",
            "+--------------+-------------+----------------+--------------------+--------------------+--------------------+--------+------------+---------+---------+------------+--------------------+------------+-----------+\n",
            "only showing top 4 rows\n",
            "\n"
          ]
        }
      ]
    },
    {
      "cell_type": "code",
      "source": [
        "titles_per_platform = dados_jogos.groupBy('platform').agg(count('title').alias('num_titles'))\n",
        "titles_per_platform = titles_per_platform.orderBy(col('num_titles').desc())"
      ],
      "metadata": {
        "id": "TgPr7zhrarGA"
      },
      "execution_count": 52,
      "outputs": []
    },
    {
      "cell_type": "code",
      "source": [
        "titles_per_platform.show()"
      ],
      "metadata": {
        "colab": {
          "base_uri": "https://localhost:8080/"
        },
        "id": "jv4f6RGhbUPx",
        "outputId": "c90858cf-dfef-490e-b271-8767d40072aa"
      },
      "execution_count": 53,
      "outputs": [
        {
          "output_type": "stream",
          "name": "stdout",
          "text": [
            "+--------------------+----------+\n",
            "|            platform|num_titles|\n",
            "+--------------------+----------+\n",
            "|        PC (Windows)|       313|\n",
            "|         Web Browser|        72|\n",
            "|PC (Windows), Web...|        11|\n",
            "|              MMORPG|         3|\n",
            "|                null|         1|\n",
            "|             Shooter|         1|\n",
            "|   or more difficult|         1|\n",
            "| you'll build a d...|         1|\n",
            "|            Strategy|         1|\n",
            "| and you'll need ...|         1|\n",
            "|https://www.mmobo...|         1|\n",
            "+--------------------+----------+\n",
            "\n"
          ]
        }
      ]
    },
    {
      "cell_type": "code",
      "source": [],
      "metadata": {
        "id": "Ctj1OGPxfkx1"
      },
      "execution_count": null,
      "outputs": []
    }
  ]
}